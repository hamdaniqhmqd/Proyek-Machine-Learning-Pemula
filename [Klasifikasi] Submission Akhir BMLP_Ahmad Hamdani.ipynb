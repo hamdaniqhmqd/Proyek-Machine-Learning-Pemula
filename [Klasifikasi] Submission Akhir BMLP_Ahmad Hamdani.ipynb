{
  "cells": [
    {
      "cell_type": "markdown",
      "metadata": {
        "id": "fKADPWcFKlj3"
      },
      "source": [
        "# **1. Import Library**"
      ]
    },
    {
      "cell_type": "markdown",
      "metadata": {
        "id": "LgA3ERnVn84N"
      },
      "source": [
        "Pada tahap ini, Anda perlu mengimpor beberapa pustaka (library) Python yang dibutuhkan untuk analisis data dan pembangunan model machine learning."
      ]
    },
    {
      "cell_type": "code",
      "execution_count": 2,
      "metadata": {
        "id": "BlmvjLY9M4Yj"
      },
      "outputs": [],
      "source": [
        "import pandas as pd\n",
        "import numpy as np\n",
        "import seaborn as sns\n",
        "import matplotlib.pyplot as plt\n",
        "from sklearn.model_selection import train_test_split, cross_val_score, learning_curve\n",
        "from sklearn.preprocessing import LabelEncoder, MinMaxScaler\n",
        "from sklearn.neighbors import KNeighborsClassifier\n",
        "from sklearn.ensemble import RandomForestClassifier\n",
        "from sklearn.model_selection import RandomizedSearchCV, GridSearchCV\n",
        "from scipy.stats import randint\n",
        "from sklearn.metrics import accuracy_score, f1_score, confusion_matrix"
      ]
    },
    {
      "cell_type": "markdown",
      "metadata": {
        "id": "f3YIEnAFKrKL"
      },
      "source": [
        "# **2. Memuat Dataset dari Hasil Clustering**"
      ]
    },
    {
      "cell_type": "markdown",
      "metadata": {
        "id": "Ey3ItwTen_7E"
      },
      "source": [
        "Memuat dataset hasil clustering dari file CSV ke dalam variabel DataFrame."
      ]
    },
    {
      "cell_type": "code",
      "execution_count": 3,
      "metadata": {
        "id": "GHCGNTyrM5fS"
      },
      "outputs": [
        {
          "data": {
            "text/html": [
              "<div>\n",
              "<style scoped>\n",
              "    .dataframe tbody tr th:only-of-type {\n",
              "        vertical-align: middle;\n",
              "    }\n",
              "\n",
              "    .dataframe tbody tr th {\n",
              "        vertical-align: top;\n",
              "    }\n",
              "\n",
              "    .dataframe thead th {\n",
              "        text-align: right;\n",
              "    }\n",
              "</style>\n",
              "<table border=\"1\" class=\"dataframe\">\n",
              "  <thead>\n",
              "    <tr style=\"text-align: right;\">\n",
              "      <th></th>\n",
              "      <th>Ship Mode</th>\n",
              "      <th>Segment</th>\n",
              "      <th>Country</th>\n",
              "      <th>City</th>\n",
              "      <th>State</th>\n",
              "      <th>Postal Code</th>\n",
              "      <th>Region</th>\n",
              "      <th>Category</th>\n",
              "      <th>Sub-Category</th>\n",
              "      <th>Sales</th>\n",
              "      <th>Quantity</th>\n",
              "      <th>Discount</th>\n",
              "      <th>Profit</th>\n",
              "      <th>Sales_Bin</th>\n",
              "      <th>Cluster</th>\n",
              "      <th>Cluster_Label</th>\n",
              "    </tr>\n",
              "  </thead>\n",
              "  <tbody>\n",
              "    <tr>\n",
              "      <th>0</th>\n",
              "      <td>Second Class</td>\n",
              "      <td>Corporate</td>\n",
              "      <td>United States</td>\n",
              "      <td>Los Angeles</td>\n",
              "      <td>California</td>\n",
              "      <td>90036</td>\n",
              "      <td>West</td>\n",
              "      <td>Office Supplies</td>\n",
              "      <td>Labels</td>\n",
              "      <td>14.620</td>\n",
              "      <td>2.0</td>\n",
              "      <td>0.0</td>\n",
              "      <td>6.8714</td>\n",
              "      <td>Low</td>\n",
              "      <td>1</td>\n",
              "      <td>Transaksi Rendah</td>\n",
              "    </tr>\n",
              "    <tr>\n",
              "      <th>1</th>\n",
              "      <td>Standard Class</td>\n",
              "      <td>Consumer</td>\n",
              "      <td>United States</td>\n",
              "      <td>Fort Lauderdale</td>\n",
              "      <td>Florida</td>\n",
              "      <td>33311</td>\n",
              "      <td>South</td>\n",
              "      <td>Office Supplies</td>\n",
              "      <td>Storage</td>\n",
              "      <td>22.368</td>\n",
              "      <td>2.0</td>\n",
              "      <td>0.2</td>\n",
              "      <td>2.5164</td>\n",
              "      <td>Medium</td>\n",
              "      <td>0</td>\n",
              "      <td>Transaksi Menengah</td>\n",
              "    </tr>\n",
              "    <tr>\n",
              "      <th>2</th>\n",
              "      <td>Standard Class</td>\n",
              "      <td>Consumer</td>\n",
              "      <td>United States</td>\n",
              "      <td>Los Angeles</td>\n",
              "      <td>California</td>\n",
              "      <td>90032</td>\n",
              "      <td>West</td>\n",
              "      <td>Furniture</td>\n",
              "      <td>Furnishings</td>\n",
              "      <td>48.860</td>\n",
              "      <td>7.0</td>\n",
              "      <td>0.0</td>\n",
              "      <td>14.1694</td>\n",
              "      <td>High</td>\n",
              "      <td>0</td>\n",
              "      <td>Transaksi Menengah</td>\n",
              "    </tr>\n",
              "    <tr>\n",
              "      <th>3</th>\n",
              "      <td>Standard Class</td>\n",
              "      <td>Consumer</td>\n",
              "      <td>United States</td>\n",
              "      <td>Los Angeles</td>\n",
              "      <td>California</td>\n",
              "      <td>90032</td>\n",
              "      <td>West</td>\n",
              "      <td>Office Supplies</td>\n",
              "      <td>Art</td>\n",
              "      <td>7.280</td>\n",
              "      <td>4.0</td>\n",
              "      <td>0.0</td>\n",
              "      <td>1.9656</td>\n",
              "      <td>Low</td>\n",
              "      <td>0</td>\n",
              "      <td>Transaksi Menengah</td>\n",
              "    </tr>\n",
              "    <tr>\n",
              "      <th>4</th>\n",
              "      <td>Standard Class</td>\n",
              "      <td>Consumer</td>\n",
              "      <td>United States</td>\n",
              "      <td>Los Angeles</td>\n",
              "      <td>California</td>\n",
              "      <td>90032</td>\n",
              "      <td>West</td>\n",
              "      <td>Office Supplies</td>\n",
              "      <td>Binders</td>\n",
              "      <td>18.504</td>\n",
              "      <td>3.0</td>\n",
              "      <td>0.2</td>\n",
              "      <td>5.7825</td>\n",
              "      <td>Low</td>\n",
              "      <td>0</td>\n",
              "      <td>Transaksi Menengah</td>\n",
              "    </tr>\n",
              "    <tr>\n",
              "      <th>...</th>\n",
              "      <td>...</td>\n",
              "      <td>...</td>\n",
              "      <td>...</td>\n",
              "      <td>...</td>\n",
              "      <td>...</td>\n",
              "      <td>...</td>\n",
              "      <td>...</td>\n",
              "      <td>...</td>\n",
              "      <td>...</td>\n",
              "      <td>...</td>\n",
              "      <td>...</td>\n",
              "      <td>...</td>\n",
              "      <td>...</td>\n",
              "      <td>...</td>\n",
              "      <td>...</td>\n",
              "      <td>...</td>\n",
              "    </tr>\n",
              "    <tr>\n",
              "      <th>4099</th>\n",
              "      <td>Standard Class</td>\n",
              "      <td>Consumer</td>\n",
              "      <td>United States</td>\n",
              "      <td>Grand Rapids</td>\n",
              "      <td>Michigan</td>\n",
              "      <td>49505</td>\n",
              "      <td>Central</td>\n",
              "      <td>Office Supplies</td>\n",
              "      <td>Paper</td>\n",
              "      <td>35.560</td>\n",
              "      <td>7.0</td>\n",
              "      <td>0.0</td>\n",
              "      <td>16.7132</td>\n",
              "      <td>Medium</td>\n",
              "      <td>0</td>\n",
              "      <td>Transaksi Menengah</td>\n",
              "    </tr>\n",
              "    <tr>\n",
              "      <th>4100</th>\n",
              "      <td>Standard Class</td>\n",
              "      <td>Consumer</td>\n",
              "      <td>United States</td>\n",
              "      <td>Long Beach</td>\n",
              "      <td>New York</td>\n",
              "      <td>11561</td>\n",
              "      <td>East</td>\n",
              "      <td>Office Supplies</td>\n",
              "      <td>Supplies</td>\n",
              "      <td>55.600</td>\n",
              "      <td>4.0</td>\n",
              "      <td>0.0</td>\n",
              "      <td>16.1240</td>\n",
              "      <td>High</td>\n",
              "      <td>0</td>\n",
              "      <td>Transaksi Menengah</td>\n",
              "    </tr>\n",
              "    <tr>\n",
              "      <th>4101</th>\n",
              "      <td>Standard Class</td>\n",
              "      <td>Consumer</td>\n",
              "      <td>United States</td>\n",
              "      <td>Los Angeles</td>\n",
              "      <td>California</td>\n",
              "      <td>90008</td>\n",
              "      <td>West</td>\n",
              "      <td>Technology</td>\n",
              "      <td>Accessories</td>\n",
              "      <td>36.240</td>\n",
              "      <td>1.0</td>\n",
              "      <td>0.0</td>\n",
              "      <td>15.2208</td>\n",
              "      <td>Medium</td>\n",
              "      <td>0</td>\n",
              "      <td>Transaksi Menengah</td>\n",
              "    </tr>\n",
              "    <tr>\n",
              "      <th>4102</th>\n",
              "      <td>Second Class</td>\n",
              "      <td>Consumer</td>\n",
              "      <td>United States</td>\n",
              "      <td>Miami</td>\n",
              "      <td>Florida</td>\n",
              "      <td>33180</td>\n",
              "      <td>South</td>\n",
              "      <td>Furniture</td>\n",
              "      <td>Furnishings</td>\n",
              "      <td>25.248</td>\n",
              "      <td>3.0</td>\n",
              "      <td>0.2</td>\n",
              "      <td>4.1028</td>\n",
              "      <td>Medium</td>\n",
              "      <td>0</td>\n",
              "      <td>Transaksi Menengah</td>\n",
              "    </tr>\n",
              "    <tr>\n",
              "      <th>4103</th>\n",
              "      <td>Standard Class</td>\n",
              "      <td>Consumer</td>\n",
              "      <td>United States</td>\n",
              "      <td>Costa Mesa</td>\n",
              "      <td>California</td>\n",
              "      <td>92627</td>\n",
              "      <td>West</td>\n",
              "      <td>Office Supplies</td>\n",
              "      <td>Paper</td>\n",
              "      <td>29.600</td>\n",
              "      <td>4.0</td>\n",
              "      <td>0.0</td>\n",
              "      <td>13.3200</td>\n",
              "      <td>Medium</td>\n",
              "      <td>0</td>\n",
              "      <td>Transaksi Menengah</td>\n",
              "    </tr>\n",
              "  </tbody>\n",
              "</table>\n",
              "<p>4104 rows × 16 columns</p>\n",
              "</div>"
            ],
            "text/plain": [
              "           Ship Mode    Segment        Country             City       State  \\\n",
              "0       Second Class  Corporate  United States      Los Angeles  California   \n",
              "1     Standard Class   Consumer  United States  Fort Lauderdale     Florida   \n",
              "2     Standard Class   Consumer  United States      Los Angeles  California   \n",
              "3     Standard Class   Consumer  United States      Los Angeles  California   \n",
              "4     Standard Class   Consumer  United States      Los Angeles  California   \n",
              "...              ...        ...            ...              ...         ...   \n",
              "4099  Standard Class   Consumer  United States     Grand Rapids    Michigan   \n",
              "4100  Standard Class   Consumer  United States       Long Beach    New York   \n",
              "4101  Standard Class   Consumer  United States      Los Angeles  California   \n",
              "4102    Second Class   Consumer  United States            Miami     Florida   \n",
              "4103  Standard Class   Consumer  United States       Costa Mesa  California   \n",
              "\n",
              "      Postal Code   Region         Category Sub-Category   Sales  Quantity  \\\n",
              "0           90036     West  Office Supplies       Labels  14.620       2.0   \n",
              "1           33311    South  Office Supplies      Storage  22.368       2.0   \n",
              "2           90032     West        Furniture  Furnishings  48.860       7.0   \n",
              "3           90032     West  Office Supplies          Art   7.280       4.0   \n",
              "4           90032     West  Office Supplies      Binders  18.504       3.0   \n",
              "...           ...      ...              ...          ...     ...       ...   \n",
              "4099        49505  Central  Office Supplies        Paper  35.560       7.0   \n",
              "4100        11561     East  Office Supplies     Supplies  55.600       4.0   \n",
              "4101        90008     West       Technology  Accessories  36.240       1.0   \n",
              "4102        33180    South        Furniture  Furnishings  25.248       3.0   \n",
              "4103        92627     West  Office Supplies        Paper  29.600       4.0   \n",
              "\n",
              "      Discount   Profit Sales_Bin  Cluster       Cluster_Label  \n",
              "0          0.0   6.8714       Low        1    Transaksi Rendah  \n",
              "1          0.2   2.5164    Medium        0  Transaksi Menengah  \n",
              "2          0.0  14.1694      High        0  Transaksi Menengah  \n",
              "3          0.0   1.9656       Low        0  Transaksi Menengah  \n",
              "4          0.2   5.7825       Low        0  Transaksi Menengah  \n",
              "...        ...      ...       ...      ...                 ...  \n",
              "4099       0.0  16.7132    Medium        0  Transaksi Menengah  \n",
              "4100       0.0  16.1240      High        0  Transaksi Menengah  \n",
              "4101       0.0  15.2208    Medium        0  Transaksi Menengah  \n",
              "4102       0.2   4.1028    Medium        0  Transaksi Menengah  \n",
              "4103       0.0  13.3200    Medium        0  Transaksi Menengah  \n",
              "\n",
              "[4104 rows x 16 columns]"
            ]
          },
          "execution_count": 3,
          "metadata": {},
          "output_type": "execute_result"
        }
      ],
      "source": [
        "df = pd.read_csv(\"inisiasi_superstore.csv\")\n",
        "df"
      ]
    },
    {
      "cell_type": "code",
      "execution_count": 4,
      "metadata": {},
      "outputs": [
        {
          "name": "stdout",
          "output_type": "stream",
          "text": [
            "<class 'pandas.core.frame.DataFrame'>\n",
            "RangeIndex: 4104 entries, 0 to 4103\n",
            "Data columns (total 16 columns):\n",
            " #   Column         Non-Null Count  Dtype  \n",
            "---  ------         --------------  -----  \n",
            " 0   Ship Mode      4104 non-null   object \n",
            " 1   Segment        4104 non-null   object \n",
            " 2   Country        4104 non-null   object \n",
            " 3   City           4104 non-null   object \n",
            " 4   State          4104 non-null   object \n",
            " 5   Postal Code    4104 non-null   int64  \n",
            " 6   Region         4104 non-null   object \n",
            " 7   Category       4104 non-null   object \n",
            " 8   Sub-Category   4104 non-null   object \n",
            " 9   Sales          4104 non-null   float64\n",
            " 10  Quantity       4104 non-null   float64\n",
            " 11  Discount       4104 non-null   float64\n",
            " 12  Profit         4104 non-null   float64\n",
            " 13  Sales_Bin      4104 non-null   object \n",
            " 14  Cluster        4104 non-null   int64  \n",
            " 15  Cluster_Label  4104 non-null   object \n",
            "dtypes: float64(4), int64(2), object(10)\n",
            "memory usage: 513.1+ KB\n"
          ]
        }
      ],
      "source": [
        "df.info()"
      ]
    },
    {
      "cell_type": "code",
      "execution_count": 5,
      "metadata": {},
      "outputs": [
        {
          "data": {
            "text/html": [
              "<div>\n",
              "<style scoped>\n",
              "    .dataframe tbody tr th:only-of-type {\n",
              "        vertical-align: middle;\n",
              "    }\n",
              "\n",
              "    .dataframe tbody tr th {\n",
              "        vertical-align: top;\n",
              "    }\n",
              "\n",
              "    .dataframe thead th {\n",
              "        text-align: right;\n",
              "    }\n",
              "</style>\n",
              "<table border=\"1\" class=\"dataframe\">\n",
              "  <thead>\n",
              "    <tr style=\"text-align: right;\">\n",
              "      <th></th>\n",
              "      <th>Ship Mode</th>\n",
              "      <th>Segment</th>\n",
              "      <th>Country</th>\n",
              "      <th>City</th>\n",
              "      <th>State</th>\n",
              "      <th>Postal Code</th>\n",
              "      <th>Region</th>\n",
              "      <th>Category</th>\n",
              "      <th>Sub-Category</th>\n",
              "      <th>Sales</th>\n",
              "      <th>Quantity</th>\n",
              "      <th>Discount</th>\n",
              "      <th>Profit</th>\n",
              "      <th>Sales_Bin</th>\n",
              "      <th>Cluster</th>\n",
              "      <th>Cluster_Label</th>\n",
              "    </tr>\n",
              "  </thead>\n",
              "  <tbody>\n",
              "    <tr>\n",
              "      <th>0</th>\n",
              "      <td>Second Class</td>\n",
              "      <td>Corporate</td>\n",
              "      <td>United States</td>\n",
              "      <td>Los Angeles</td>\n",
              "      <td>California</td>\n",
              "      <td>90036</td>\n",
              "      <td>West</td>\n",
              "      <td>Office Supplies</td>\n",
              "      <td>Labels</td>\n",
              "      <td>14.620</td>\n",
              "      <td>2.0</td>\n",
              "      <td>0.0</td>\n",
              "      <td>6.8714</td>\n",
              "      <td>Low</td>\n",
              "      <td>1</td>\n",
              "      <td>Transaksi Rendah</td>\n",
              "    </tr>\n",
              "    <tr>\n",
              "      <th>1</th>\n",
              "      <td>Standard Class</td>\n",
              "      <td>Consumer</td>\n",
              "      <td>United States</td>\n",
              "      <td>Fort Lauderdale</td>\n",
              "      <td>Florida</td>\n",
              "      <td>33311</td>\n",
              "      <td>South</td>\n",
              "      <td>Office Supplies</td>\n",
              "      <td>Storage</td>\n",
              "      <td>22.368</td>\n",
              "      <td>2.0</td>\n",
              "      <td>0.2</td>\n",
              "      <td>2.5164</td>\n",
              "      <td>Medium</td>\n",
              "      <td>0</td>\n",
              "      <td>Transaksi Menengah</td>\n",
              "    </tr>\n",
              "    <tr>\n",
              "      <th>2</th>\n",
              "      <td>Standard Class</td>\n",
              "      <td>Consumer</td>\n",
              "      <td>United States</td>\n",
              "      <td>Los Angeles</td>\n",
              "      <td>California</td>\n",
              "      <td>90032</td>\n",
              "      <td>West</td>\n",
              "      <td>Furniture</td>\n",
              "      <td>Furnishings</td>\n",
              "      <td>48.860</td>\n",
              "      <td>7.0</td>\n",
              "      <td>0.0</td>\n",
              "      <td>14.1694</td>\n",
              "      <td>High</td>\n",
              "      <td>0</td>\n",
              "      <td>Transaksi Menengah</td>\n",
              "    </tr>\n",
              "    <tr>\n",
              "      <th>3</th>\n",
              "      <td>Standard Class</td>\n",
              "      <td>Consumer</td>\n",
              "      <td>United States</td>\n",
              "      <td>Los Angeles</td>\n",
              "      <td>California</td>\n",
              "      <td>90032</td>\n",
              "      <td>West</td>\n",
              "      <td>Office Supplies</td>\n",
              "      <td>Art</td>\n",
              "      <td>7.280</td>\n",
              "      <td>4.0</td>\n",
              "      <td>0.0</td>\n",
              "      <td>1.9656</td>\n",
              "      <td>Low</td>\n",
              "      <td>0</td>\n",
              "      <td>Transaksi Menengah</td>\n",
              "    </tr>\n",
              "    <tr>\n",
              "      <th>4</th>\n",
              "      <td>Standard Class</td>\n",
              "      <td>Consumer</td>\n",
              "      <td>United States</td>\n",
              "      <td>Los Angeles</td>\n",
              "      <td>California</td>\n",
              "      <td>90032</td>\n",
              "      <td>West</td>\n",
              "      <td>Office Supplies</td>\n",
              "      <td>Binders</td>\n",
              "      <td>18.504</td>\n",
              "      <td>3.0</td>\n",
              "      <td>0.2</td>\n",
              "      <td>5.7825</td>\n",
              "      <td>Low</td>\n",
              "      <td>0</td>\n",
              "      <td>Transaksi Menengah</td>\n",
              "    </tr>\n",
              "  </tbody>\n",
              "</table>\n",
              "</div>"
            ],
            "text/plain": [
              "        Ship Mode    Segment        Country             City       State  \\\n",
              "0    Second Class  Corporate  United States      Los Angeles  California   \n",
              "1  Standard Class   Consumer  United States  Fort Lauderdale     Florida   \n",
              "2  Standard Class   Consumer  United States      Los Angeles  California   \n",
              "3  Standard Class   Consumer  United States      Los Angeles  California   \n",
              "4  Standard Class   Consumer  United States      Los Angeles  California   \n",
              "\n",
              "   Postal Code Region         Category Sub-Category   Sales  Quantity  \\\n",
              "0        90036   West  Office Supplies       Labels  14.620       2.0   \n",
              "1        33311  South  Office Supplies      Storage  22.368       2.0   \n",
              "2        90032   West        Furniture  Furnishings  48.860       7.0   \n",
              "3        90032   West  Office Supplies          Art   7.280       4.0   \n",
              "4        90032   West  Office Supplies      Binders  18.504       3.0   \n",
              "\n",
              "   Discount   Profit Sales_Bin  Cluster       Cluster_Label  \n",
              "0       0.0   6.8714       Low        1    Transaksi Rendah  \n",
              "1       0.2   2.5164    Medium        0  Transaksi Menengah  \n",
              "2       0.0  14.1694      High        0  Transaksi Menengah  \n",
              "3       0.0   1.9656       Low        0  Transaksi Menengah  \n",
              "4       0.2   5.7825       Low        0  Transaksi Menengah  "
            ]
          },
          "execution_count": 5,
          "metadata": {},
          "output_type": "execute_result"
        }
      ],
      "source": [
        "df.head()"
      ]
    },
    {
      "cell_type": "code",
      "execution_count": 6,
      "metadata": {},
      "outputs": [
        {
          "data": {
            "text/plain": [
              "Ship Mode        0\n",
              "Segment          0\n",
              "Country          0\n",
              "City             0\n",
              "State            0\n",
              "Postal Code      0\n",
              "Region           0\n",
              "Category         0\n",
              "Sub-Category     0\n",
              "Sales            0\n",
              "Quantity         0\n",
              "Discount         0\n",
              "Profit           0\n",
              "Sales_Bin        0\n",
              "Cluster          0\n",
              "Cluster_Label    0\n",
              "dtype: int64"
            ]
          },
          "execution_count": 6,
          "metadata": {},
          "output_type": "execute_result"
        }
      ],
      "source": [
        "df.isnull().sum()"
      ]
    },
    {
      "cell_type": "code",
      "execution_count": 7,
      "metadata": {},
      "outputs": [
        {
          "name": "stdout",
          "output_type": "stream",
          "text": [
            "Data sebelum Normalisasi (MinMaxScaler):\n",
            "    Sales  Quantity  Discount   Profit\n",
            "0  14.620       2.0       0.0   6.8714\n",
            "1  22.368       2.0       0.2   2.5164\n",
            "2  48.860       7.0       0.0  14.1694\n",
            "3   7.280       4.0       0.0   1.9656\n",
            "4  18.504       3.0       0.2   5.7825\n"
          ]
        }
      ],
      "source": [
        "print(\"Data sebelum Normalisasi (MinMaxScaler):\")\n",
        "numerical_columns = ['Sales', 'Quantity', 'Discount', 'Profit']\n",
        "print(df[numerical_columns].head())"
      ]
    },
    {
      "cell_type": "code",
      "execution_count": 8,
      "metadata": {},
      "outputs": [
        {
          "name": "stdout",
          "output_type": "stream",
          "text": [
            "Data setelah Normalisasi (MinMaxScaler):\n",
            "      Sales  Quantity  Discount    Profit\n",
            "0  0.222749  0.166667       0.0  0.532158\n",
            "1  0.349371  0.166667       0.4  0.368638\n",
            "2  0.782317  1.000000       0.0  0.806180\n",
            "3  0.102795  0.500000       0.0  0.347957\n",
            "4  0.286223  0.333333       0.4  0.491272\n"
          ]
        }
      ],
      "source": [
        "scaler = MinMaxScaler()\n",
        "df[numerical_columns] = scaler.fit_transform(df[numerical_columns])\n",
        "print(\"Data setelah Normalisasi (MinMaxScaler):\")\n",
        "print(df[numerical_columns].head())"
      ]
    },
    {
      "cell_type": "code",
      "execution_count": 9,
      "metadata": {},
      "outputs": [
        {
          "data": {
            "text/html": [
              "<div>\n",
              "<style scoped>\n",
              "    .dataframe tbody tr th:only-of-type {\n",
              "        vertical-align: middle;\n",
              "    }\n",
              "\n",
              "    .dataframe tbody tr th {\n",
              "        vertical-align: top;\n",
              "    }\n",
              "\n",
              "    .dataframe thead th {\n",
              "        text-align: right;\n",
              "    }\n",
              "</style>\n",
              "<table border=\"1\" class=\"dataframe\">\n",
              "  <thead>\n",
              "    <tr style=\"text-align: right;\">\n",
              "      <th></th>\n",
              "      <th>Ship Mode</th>\n",
              "      <th>Segment</th>\n",
              "      <th>Country</th>\n",
              "      <th>City</th>\n",
              "      <th>State</th>\n",
              "      <th>Postal Code</th>\n",
              "      <th>Region</th>\n",
              "      <th>Category</th>\n",
              "      <th>Sub-Category</th>\n",
              "      <th>Sales</th>\n",
              "      <th>Quantity</th>\n",
              "      <th>Discount</th>\n",
              "      <th>Profit</th>\n",
              "      <th>Sales_Bin</th>\n",
              "      <th>Cluster</th>\n",
              "      <th>Cluster_Label</th>\n",
              "    </tr>\n",
              "  </thead>\n",
              "  <tbody>\n",
              "    <tr>\n",
              "      <th>0</th>\n",
              "      <td>Second Class</td>\n",
              "      <td>1</td>\n",
              "      <td>United States</td>\n",
              "      <td>Los Angeles</td>\n",
              "      <td>California</td>\n",
              "      <td>90036</td>\n",
              "      <td>West</td>\n",
              "      <td>Office Supplies</td>\n",
              "      <td>Labels</td>\n",
              "      <td>0.222749</td>\n",
              "      <td>0.166667</td>\n",
              "      <td>0.0</td>\n",
              "      <td>0.532158</td>\n",
              "      <td>Low</td>\n",
              "      <td>1</td>\n",
              "      <td>Transaksi Rendah</td>\n",
              "    </tr>\n",
              "    <tr>\n",
              "      <th>1</th>\n",
              "      <td>Standard Class</td>\n",
              "      <td>0</td>\n",
              "      <td>United States</td>\n",
              "      <td>Fort Lauderdale</td>\n",
              "      <td>Florida</td>\n",
              "      <td>33311</td>\n",
              "      <td>South</td>\n",
              "      <td>Office Supplies</td>\n",
              "      <td>Storage</td>\n",
              "      <td>0.349371</td>\n",
              "      <td>0.166667</td>\n",
              "      <td>0.4</td>\n",
              "      <td>0.368638</td>\n",
              "      <td>Medium</td>\n",
              "      <td>0</td>\n",
              "      <td>Transaksi Menengah</td>\n",
              "    </tr>\n",
              "    <tr>\n",
              "      <th>2</th>\n",
              "      <td>Standard Class</td>\n",
              "      <td>0</td>\n",
              "      <td>United States</td>\n",
              "      <td>Los Angeles</td>\n",
              "      <td>California</td>\n",
              "      <td>90032</td>\n",
              "      <td>West</td>\n",
              "      <td>Furniture</td>\n",
              "      <td>Furnishings</td>\n",
              "      <td>0.782317</td>\n",
              "      <td>1.000000</td>\n",
              "      <td>0.0</td>\n",
              "      <td>0.806180</td>\n",
              "      <td>High</td>\n",
              "      <td>0</td>\n",
              "      <td>Transaksi Menengah</td>\n",
              "    </tr>\n",
              "    <tr>\n",
              "      <th>3</th>\n",
              "      <td>Standard Class</td>\n",
              "      <td>0</td>\n",
              "      <td>United States</td>\n",
              "      <td>Los Angeles</td>\n",
              "      <td>California</td>\n",
              "      <td>90032</td>\n",
              "      <td>West</td>\n",
              "      <td>Office Supplies</td>\n",
              "      <td>Art</td>\n",
              "      <td>0.102795</td>\n",
              "      <td>0.500000</td>\n",
              "      <td>0.0</td>\n",
              "      <td>0.347957</td>\n",
              "      <td>Low</td>\n",
              "      <td>0</td>\n",
              "      <td>Transaksi Menengah</td>\n",
              "    </tr>\n",
              "    <tr>\n",
              "      <th>4</th>\n",
              "      <td>Standard Class</td>\n",
              "      <td>0</td>\n",
              "      <td>United States</td>\n",
              "      <td>Los Angeles</td>\n",
              "      <td>California</td>\n",
              "      <td>90032</td>\n",
              "      <td>West</td>\n",
              "      <td>Office Supplies</td>\n",
              "      <td>Binders</td>\n",
              "      <td>0.286223</td>\n",
              "      <td>0.333333</td>\n",
              "      <td>0.4</td>\n",
              "      <td>0.491272</td>\n",
              "      <td>Low</td>\n",
              "      <td>0</td>\n",
              "      <td>Transaksi Menengah</td>\n",
              "    </tr>\n",
              "  </tbody>\n",
              "</table>\n",
              "</div>"
            ],
            "text/plain": [
              "        Ship Mode  Segment        Country             City       State  \\\n",
              "0    Second Class        1  United States      Los Angeles  California   \n",
              "1  Standard Class        0  United States  Fort Lauderdale     Florida   \n",
              "2  Standard Class        0  United States      Los Angeles  California   \n",
              "3  Standard Class        0  United States      Los Angeles  California   \n",
              "4  Standard Class        0  United States      Los Angeles  California   \n",
              "\n",
              "   Postal Code Region         Category Sub-Category     Sales  Quantity  \\\n",
              "0        90036   West  Office Supplies       Labels  0.222749  0.166667   \n",
              "1        33311  South  Office Supplies      Storage  0.349371  0.166667   \n",
              "2        90032   West        Furniture  Furnishings  0.782317  1.000000   \n",
              "3        90032   West  Office Supplies          Art  0.102795  0.500000   \n",
              "4        90032   West  Office Supplies      Binders  0.286223  0.333333   \n",
              "\n",
              "   Discount    Profit Sales_Bin  Cluster       Cluster_Label  \n",
              "0       0.0  0.532158       Low        1    Transaksi Rendah  \n",
              "1       0.4  0.368638    Medium        0  Transaksi Menengah  \n",
              "2       0.0  0.806180      High        0  Transaksi Menengah  \n",
              "3       0.0  0.347957       Low        0  Transaksi Menengah  \n",
              "4       0.4  0.491272       Low        0  Transaksi Menengah  "
            ]
          },
          "execution_count": 9,
          "metadata": {},
          "output_type": "execute_result"
        }
      ],
      "source": [
        "encoder = LabelEncoder()\n",
        "df[\"Segment\"] = encoder.fit_transform(df[\"Segment\"])\n",
        "\n",
        "df.head()"
      ]
    },
    {
      "cell_type": "code",
      "execution_count": 10,
      "metadata": {},
      "outputs": [
        {
          "data": {
            "text/html": [
              "<div>\n",
              "<style scoped>\n",
              "    .dataframe tbody tr th:only-of-type {\n",
              "        vertical-align: middle;\n",
              "    }\n",
              "\n",
              "    .dataframe tbody tr th {\n",
              "        vertical-align: top;\n",
              "    }\n",
              "\n",
              "    .dataframe thead th {\n",
              "        text-align: right;\n",
              "    }\n",
              "</style>\n",
              "<table border=\"1\" class=\"dataframe\">\n",
              "  <thead>\n",
              "    <tr style=\"text-align: right;\">\n",
              "      <th></th>\n",
              "      <th>Segment</th>\n",
              "      <th>Sales</th>\n",
              "      <th>Quantity</th>\n",
              "      <th>Discount</th>\n",
              "      <th>Profit</th>\n",
              "      <th>Cluster</th>\n",
              "    </tr>\n",
              "  </thead>\n",
              "  <tbody>\n",
              "    <tr>\n",
              "      <th>0</th>\n",
              "      <td>1</td>\n",
              "      <td>0.222749</td>\n",
              "      <td>0.166667</td>\n",
              "      <td>0.0</td>\n",
              "      <td>0.532158</td>\n",
              "      <td>1</td>\n",
              "    </tr>\n",
              "    <tr>\n",
              "      <th>1</th>\n",
              "      <td>0</td>\n",
              "      <td>0.349371</td>\n",
              "      <td>0.166667</td>\n",
              "      <td>0.4</td>\n",
              "      <td>0.368638</td>\n",
              "      <td>0</td>\n",
              "    </tr>\n",
              "    <tr>\n",
              "      <th>2</th>\n",
              "      <td>0</td>\n",
              "      <td>0.782317</td>\n",
              "      <td>1.000000</td>\n",
              "      <td>0.0</td>\n",
              "      <td>0.806180</td>\n",
              "      <td>0</td>\n",
              "    </tr>\n",
              "    <tr>\n",
              "      <th>3</th>\n",
              "      <td>0</td>\n",
              "      <td>0.102795</td>\n",
              "      <td>0.500000</td>\n",
              "      <td>0.0</td>\n",
              "      <td>0.347957</td>\n",
              "      <td>0</td>\n",
              "    </tr>\n",
              "    <tr>\n",
              "      <th>4</th>\n",
              "      <td>0</td>\n",
              "      <td>0.286223</td>\n",
              "      <td>0.333333</td>\n",
              "      <td>0.4</td>\n",
              "      <td>0.491272</td>\n",
              "      <td>0</td>\n",
              "    </tr>\n",
              "  </tbody>\n",
              "</table>\n",
              "</div>"
            ],
            "text/plain": [
              "   Segment     Sales  Quantity  Discount    Profit  Cluster\n",
              "0        1  0.222749  0.166667       0.0  0.532158        1\n",
              "1        0  0.349371  0.166667       0.4  0.368638        0\n",
              "2        0  0.782317  1.000000       0.0  0.806180        0\n",
              "3        0  0.102795  0.500000       0.0  0.347957        0\n",
              "4        0  0.286223  0.333333       0.4  0.491272        0"
            ]
          },
          "execution_count": 10,
          "metadata": {},
          "output_type": "execute_result"
        }
      ],
      "source": [
        "columns_to_drop = [\"Ship Mode\", \"Country\", \"City\", \"State\", \"Postal Code\", \"Region\", \"Category\", \"Sub-Category\", \"Sales_Bin\", \"Cluster_Label\"]\n",
        "\n",
        "data_numerical = df.drop(columns=columns_to_drop)\n",
        "data_numerical.head()"
      ]
    },
    {
      "cell_type": "markdown",
      "metadata": {
        "id": "KkPem5eWL2UP"
      },
      "source": [
        "# **3. Data Splitting**"
      ]
    },
    {
      "cell_type": "markdown",
      "metadata": {
        "id": "YYj1rl_JNI9Y"
      },
      "source": [
        "Tahap Data Splitting bertujuan untuk memisahkan dataset menjadi dua bagian: data latih (training set) dan data uji (test set)."
      ]
    },
    {
      "cell_type": "code",
      "execution_count": 11,
      "metadata": {
        "id": "OubAW-7ONKVj"
      },
      "outputs": [
        {
          "name": "stdout",
          "output_type": "stream",
          "text": [
            "Jumlah data latih: 3283\n",
            "Jumlah data uji: 821\n"
          ]
        }
      ],
      "source": [
        "X = data_numerical[['Sales', 'Quantity', 'Discount', 'Profit', 'Segment']]  \n",
        "y = data_numerical['Cluster']  \n",
        "\n",
        "X_train, X_test, y_train, y_test = train_test_split(X, y, test_size=0.2, random_state=42, stratify=y)\n",
        "\n",
        "print(f\"Jumlah data latih: {len(X_train)}\")\n",
        "print(f\"Jumlah data uji: {len(X_test)}\")"
      ]
    },
    {
      "cell_type": "markdown",
      "metadata": {
        "id": "IVPbB03CMhTT"
      },
      "source": [
        "# **4. Membangun Model Klasifikasi**\n"
      ]
    },
    {
      "cell_type": "markdown",
      "metadata": {
        "id": "Ned1pL9zMmBK"
      },
      "source": [
        "## **a. Membangun Model Klasifikasi**"
      ]
    },
    {
      "cell_type": "markdown",
      "metadata": {
        "id": "WAWzPOE4Nkti"
      },
      "source": [
        "Setelah memilih algoritma klasifikasi yang sesuai, langkah selanjutnya adalah melatih model menggunakan data latih.\n",
        "\n",
        "Berikut adalah rekomendasi tahapannya.\n",
        "1. Pilih algoritma klasifikasi yang sesuai, seperti Logistic Regression, Decision Tree, Random Forest, atau K-Nearest Neighbors (KNN).\n",
        "2. Latih model menggunakan data latih."
      ]
    },
    {
      "cell_type": "code",
      "execution_count": 12,
      "metadata": {},
      "outputs": [
        {
          "name": "stdout",
          "output_type": "stream",
          "text": [
            "Model berhasil dilatih!\n"
          ]
        }
      ],
      "source": [
        "\n",
        "rf_model = RandomForestClassifier(\n",
        "    n_estimators=156,\n",
        "    max_depth=30,\n",
        "    min_samples_split=8,\n",
        "    min_samples_leaf=1,\n",
        "    max_features='sqrt',     \n",
        "    bootstrap=True,\n",
        "    random_state=42\n",
        ")\n",
        "rf_model.fit(X_train, y_train)\n",
        "\n",
        "\n",
        "knn_model = KNeighborsClassifier(\n",
        "    n_neighbors=3,\n",
        "    weights='uniform',\n",
        "    metric='euclidean',\n",
        "    algorithm='auto',        \n",
        "    leaf_size=30,            \n",
        "    p=2                      \n",
        ")\n",
        "knn_model.fit(X_train, y_train)\n",
        "\n",
        "print(\"Model berhasil dilatih!\")"
      ]
    },
    {
      "cell_type": "markdown",
      "metadata": {
        "id": "seYoHNY3XU1y"
      },
      "source": [
        "Kode di atas melatih dua model machine learning: **Random Forest** dan **K-Nearest Neighbors (KNN)**.\n",
        "\n",
        "1. **Random Forest**  \n",
        "   - Algoritma ensemble berbasis pohon keputusan yang menggabungkan banyak pohon untuk meningkatkan akurasi dan mengurangi overfitting.  \n",
        "   - Model ini menggunakan **200 pohon keputusan** (*n_estimators=200*), dengan kedalaman maksimal **10** (*max_depth=10*).  \n",
        "   - Pembagian minimum untuk membuat cabang baru adalah **5 sampel** (*min_samples_split=5*), dan setiap daun harus memiliki setidaknya **2 sampel** (*min_samples_leaf=2*).  \n",
        "   - Untuk meningkatkan efisiensi, model menggunakan fitur secara acak dalam setiap split (*max_features='sqrt'*) serta teknik *bootstrap sampling* untuk variasi pohon.  \n",
        "\n",
        "2. **K-Nearest Neighbors (KNN)**  \n",
        "   - Algoritma berbasis kedekatan yang menentukan kelas berdasarkan **7 tetangga terdekat** (*n_neighbors=7*).  \n",
        "   - Bobot diberikan berdasarkan jarak (*weights='distance'*), sehingga tetangga yang lebih dekat memiliki pengaruh lebih besar dalam prediksi.  \n",
        "   - Model menggunakan **algoritma auto** untuk memilih metode pencarian terbaik berdasarkan data, serta menggunakan **metrik jarak Euclidean** (*p=2*).  "
      ]
    },
    {
      "cell_type": "markdown",
      "metadata": {
        "id": "ergzChZFEL-O"
      },
      "source": [
        "## **b. Evaluasi Model Klasifikasi**"
      ]
    },
    {
      "cell_type": "markdown",
      "metadata": {
        "id": "zOm68u-7NpLT"
      },
      "source": [
        "Berikut adalah **rekomendasi** tahapannya.\n",
        "1. Lakukan prediksi menggunakan data uji.\n",
        "2. Hitung metrik evaluasi seperti Accuracy dan F1-Score (Opsional: Precision dan Recall).\n",
        "3. Buat confusion matrix untuk melihat detail prediksi benar dan salah."
      ]
    },
    {
      "cell_type": "code",
      "execution_count": 13,
      "metadata": {},
      "outputs": [
        {
          "name": "stdout",
          "output_type": "stream",
          "text": [
            "Random Forest - Akurasi: 1.0000, F1-Score: 1.0000\n"
          ]
        },
        {
          "data": {
            "image/png": "[encoded data removed]",
            "text/plain": [
              "<Figure size 600x400 with 2 Axes>"
            ]
          },
          "metadata": {},
          "output_type": "display_data"
        },
        {
          "name": "stdout",
          "output_type": "stream",
          "text": [
            "KNN - Akurasi: 1.0000, F1-Score: 1.0000\n"
          ]
        },
        {
          "data": {
            "image/png": "[encoded data removed]",
            "text/plain": [
              "<Figure size 600x400 with 2 Axes>"
            ]
          },
          "metadata": {},
          "output_type": "display_data"
        }
      ],
      "source": [
        "# Prediksi dengan data uji\n",
        "X_pred_rf = rf_model.predict(X_test)\n",
        "X_pred_knn = knn_model.predict(X_test)\n",
        "\n",
        "# Evaluasi Random Forest\n",
        "accuracy_rf = accuracy_score(y_test, X_pred_rf)\n",
        "f1_rf = f1_score(y_test, X_pred_rf, average=\"weighted\")\n",
        "\n",
        "# Evaluasi KNN\n",
        "accuracy_knn = accuracy_score(y_test, X_pred_knn)\n",
        "f1_knn = f1_score(y_test, X_pred_knn, average=\"weighted\")\n",
        "\n",
        "# Menampilkan hasil evaluasi\n",
        "print(f\"Random Forest - Akurasi: {accuracy_rf:.4f}, F1-Score: {f1_rf:.4f}\")\n",
        "\n",
        "plt.figure(figsize=(6, 4))\n",
        "sns.heatmap(confusion_matrix(y_test, X_pred_rf), annot=True, fmt=\"d\", cmap=\"Blues\")\n",
        "plt.title(\"Confusion Matrix - Random Forest\")\n",
        "plt.xlabel(\"Predicted Label\")\n",
        "plt.ylabel(\"True Label\")\n",
        "plt.show()\n",
        "\n",
        "print(f\"KNN - Akurasi: {accuracy_knn:.4f}, F1-Score: {f1_knn:.4f}\")\n",
        "\n",
        "plt.figure(figsize=(6, 4))\n",
        "sns.heatmap(confusion_matrix(y_test, X_pred_knn), annot=True, fmt=\"d\", cmap=\"Greens\")\n",
        "plt.title(\"Confusion Matrix - KNN\")\n",
        "plt.xlabel(\"Predicted Label\")\n",
        "plt.ylabel(\"True Label\")\n",
        "plt.show()"
      ]
    },
    {
      "cell_type": "markdown",
      "metadata": {
        "id": "H4_9OwrsXZlz"
      },
      "source": [
        "**Perbandingan Random Forest dan KNN (Akurasi & F1-Score = 100%)**\n",
        "1. **Performa Klasifikasi**:\n",
        "   - **Random Forest (RF)** dan **K-Nearest Neighbors (KNN)** sama-sama berhasil mencapai akurasi dan F1-score **100%**, menunjukkan tidak ada kesalahan klasifikasi dalam confusion matrix.\n",
        "   - **Kesimpulan**: Tidak ada perbedaan performa klasifikasi di antara keduanya pada dataset ini.\n",
        "\n",
        "2. **Efisiensi Komputasi**:\n",
        "   - **Random Forest**:\n",
        "     - Memiliki keunggulan dalam menangani dataset besar dan fitur dengan banyak dimensi.\n",
        "     - Namun, model ini cenderung memerlukan waktu dan sumber daya komputasi lebih besar selama proses pelatihan, terutama setelah hyperparameter tuning.\n",
        "   - **K-Nearest Neighbors**:\n",
        "     - Lebih sederhana secara konseptual dan membutuhkan waktu pelatihan lebih sedikit.\n",
        "     - Namun, proses prediksi lebih lambat karena KNN harus menghitung jarak ke semua titik dalam data pelatihan.\n",
        "   - **Kesimpulan**: Pilihan antara RF dan KNN dapat bergantung pada kebutuhan komputasi dan ukuran dataset di masa implementasi.\n",
        "\n",
        "3. **Kesesuaian dengan Dataset**:\n",
        "   - **Random Forest** sering lebih baik untuk dataset dengan fitur yang lebih kompleks dan interaksi antar fitur.\n",
        "   - **KNN** dapat bekerja optimal pada dataset kecil hingga menengah yang seimbang tanpa banyak outlier.\n",
        "   - **Kesimpulan**: Jika dataset Anda tidak terlalu besar dan bersih, KNN bisa menjadi pilihan praktis."
      ]
    },
    {
      "cell_type": "code",
      "execution_count": 14,
      "metadata": {},
      "outputs": [
        {
          "data": {
            "image/png": "[encoded data removed]",
            "text/plain": [
              "<Figure size 640x480 with 1 Axes>"
            ]
          },
          "metadata": {},
          "output_type": "display_data"
        }
      ],
      "source": [
        "train_sizes, train_scores, test_scores = learning_curve(rf_model, X_train, y_train, cv=5, scoring='accuracy')\n",
        "\n",
        "train_mean = np.mean(train_scores, axis=1)\n",
        "test_mean = np.mean(test_scores, axis=1)\n",
        "\n",
        "plt.plot(train_sizes, train_mean, label=\"Training Score\", marker='o')\n",
        "plt.plot(train_sizes, test_mean, label=\"Validation Score\", marker='s')\n",
        "plt.xlabel(\"Training Set Size\")\n",
        "plt.ylabel(\"Accuracy\")\n",
        "plt.legend()\n",
        "plt.title(\"Learning Curve - Random Forest\")\n",
        "plt.show()"
      ]
    },
    {
      "cell_type": "markdown",
      "metadata": {},
      "source": [
        "**Evaluasi Learning Curve - Random Forest**  \n",
        "\n",
        "Dari grafik learning curve yang diperbarui, berikut analisisnya:  \n",
        "\n",
        "1. **Training Score dan Validation Score Sama-sama di 1.0**  \n",
        "   - Model mencapai **akurasi sempurna (100%)** pada data latih dan data validasi.  \n",
        "   - Tidak ada gap antara keduanya, menunjukkan bahwa **model tidak mengalami overfitting**.  \n",
        "\n",
        "2. **Model Sangat Generalizable**  \n",
        "   - Karena training score dan validation score tetap di **1.0**, model mampu mengenali pola dalam data dengan sangat baik tanpa mengalami penurunan performa pada data baru.  \n",
        "   - Tidak ada indikasi bahwa model memerlukan lebih banyak data untuk meningkatkan performanya.  \n",
        "\n",
        "3. **Kesimpulan**  \n",
        "   - Model **Random Forest** dalam eksperimen ini bekerja secara **sempurna** tanpa overfitting maupun underfitting.  \n",
        "   - Tidak diperlukan tuning lebih lanjut kecuali jika dataset berubah atau lebih kompleks.  "
      ]
    },
    {
      "cell_type": "code",
      "execution_count": 15,
      "metadata": {},
      "outputs": [
        {
          "data": {
            "image/png": "[encoded data removed]",
            "text/plain": [
              "<Figure size 640x480 with 1 Axes>"
            ]
          },
          "metadata": {},
          "output_type": "display_data"
        }
      ],
      "source": [
        "train_sizes, train_scores, test_scores = learning_curve(knn_model, X_train, y_train, cv=5, scoring='accuracy')\n",
        "\n",
        "train_mean = np.mean(train_scores, axis=1)\n",
        "test_mean = np.mean(test_scores, axis=1)\n",
        "\n",
        "plt.plot(train_sizes, train_mean, label=\"Training Score\", marker='o')\n",
        "plt.plot(train_sizes, test_mean, label=\"Validation Score\", marker='s')\n",
        "plt.xlabel(\"Training Set Size\")\n",
        "plt.ylabel(\"Accuracy\")\n",
        "plt.legend()\n",
        "plt.title(\"Learning Curve - KNN\")\n",
        "plt.show()\n"
      ]
    },
    {
      "cell_type": "markdown",
      "metadata": {},
      "source": [
        "**Evaluasi Learning Curve - KNN**  \n",
        "\n",
        "Dari grafik learning curve yang diperbarui, berikut analisisnya:  \n",
        "\n",
        "1. **Training Score dan Validation Score Sama-sama di 1.0**  \n",
        "   - Model mencapai **akurasi sempurna (100%)** pada data latih dan data validasi.  \n",
        "   - Tidak ada gap antara keduanya, menunjukkan bahwa **model tidak mengalami overfitting**.  \n",
        "\n",
        "2. **Model Sangat Generalizable**  \n",
        "   - Karena training score dan validation score tetap di **1.0**, model mampu mengenali pola dalam data dengan sangat baik tanpa mengalami penurunan performa pada data baru.  \n",
        "   - Tidak ada indikasi bahwa model memerlukan lebih banyak data untuk meningkatkan performanya.  \n",
        "\n",
        "3. **Kesimpulan**  \n",
        "   - Model **KNN** dalam eksperimen ini bekerja secara **sempurna** tanpa overfitting maupun underfitting.  \n",
        "   - Tidak diperlukan tuning lebih lanjut kecuali jika dataset berubah atau lebih kompleks.  "
      ]
    },
    {
      "cell_type": "code",
      "execution_count": 16,
      "metadata": {},
      "outputs": [
        {
          "name": "stdout",
          "output_type": "stream",
          "text": [
            "Cross-Validation Mean Accuracy - Random Forest: 1.0000\n"
          ]
        }
      ],
      "source": [
        "cv_scores = cross_val_score(rf_model, X_train, y_train, cv=5, scoring='accuracy')\n",
        "print(f\"Cross-Validation Mean Accuracy - Random Forest: {cv_scores.mean():.4f}\")"
      ]
    },
    {
      "cell_type": "markdown",
      "metadata": {},
      "source": [
        "**Evaluasi Cross-Validation - Random Forest**  \n",
        "\n",
        "- **Akurasi rata-rata dari cross-validation adalah 100%**, menunjukkan bahwa model memiliki performa yang **sangat baik** pada data pelatihan.  \n",
        "- **Cross-validation (cv=5)** memastikan bahwa evaluasi model lebih **stabil dan tidak bergantung pada satu subset data saja**.  \n",
        "- **Nilai akurasi yang sempurna (1.0000) pada semua lipatan** menunjukkan bahwa model kemungkinan besar mengalami **overfitting**, karena tidak ada kesalahan dalam prediksi pada data pelatihan.  \n",
        "- **Pengecekan dengan data uji sangat penting** untuk memastikan bahwa model tidak hanya bekerja dengan baik pada data pelatihan tetapi juga mampu melakukan generalisasi pada data baru."
      ]
    },
    {
      "cell_type": "code",
      "execution_count": 17,
      "metadata": {},
      "outputs": [
        {
          "name": "stdout",
          "output_type": "stream",
          "text": [
            "Cross-Validation Mean Accuracy - KNN: 1.0000\n"
          ]
        }
      ],
      "source": [
        "cv_scores = cross_val_score(knn_model, X_train, y_train, cv=5, scoring='accuracy')\n",
        "print(f\"Cross-Validation Mean Accuracy - KNN: {cv_scores.mean():.4f}\")"
      ]
    },
    {
      "cell_type": "markdown",
      "metadata": {},
      "source": [
        "**Evaluasi Cross-Validation - KNN**  \n",
        "\n",
        "- **Akurasi rata-rata dari cross-validation adalah 100%**, yang menunjukkan bahwa model KNN memiliki performa **sangat baik** pada data pelatihan.  \n",
        "- Dengan **cv=5**, evaluasi dilakukan pada beberapa subset data untuk memastikan kestabilan hasil.  \n",
        "- **Akurasi yang sempurna (1.0000) pada semua lipatan** menunjukkan kemungkinan bahwa model **sangat cocok dengan data pelatihan**, tetapi perlu diuji lebih lanjut untuk memastikan bahwa model tidak mengalami **overfitting** saat digunakan pada data baru."
      ]
    },
    {
      "cell_type": "markdown",
      "metadata": {
        "id": "ph9yIYDXEPuB"
      },
      "source": [
        "## **c. Tuning Model Klasifikasi (Optional)**"
      ]
    },
    {
      "cell_type": "markdown",
      "metadata": {
        "id": "-Bikx3LINv5e"
      },
      "source": [
        "Gunakan GridSearchCV, RandomizedSearchCV, atau metode lainnya untuk mencari kombinasi hyperparameter terbaik"
      ]
    },
    {
      "cell_type": "code",
      "execution_count": 18,
      "metadata": {
        "id": "winbFzb8NL95"
      },
      "outputs": [
        {
          "name": "stdout",
          "output_type": "stream",
          "text": [
            "Best Parameters for Random Forest: {'max_depth': 30, 'min_samples_leaf': 1, 'min_samples_split': 8, 'n_estimators': 156}\n"
          ]
        }
      ],
      "source": [
        "param_dist_rf = {\n",
        "    \"n_estimators\": randint(50, 200),\n",
        "    \"max_depth\": [None, 10, 20, 30, 40, 50],\n",
        "    \"min_samples_split\": randint(2, 10),\n",
        "    \"min_samples_leaf\": randint(1, 5),\n",
        "}\n",
        "\n",
        "random_search_rf = RandomizedSearchCV(\n",
        "    RandomForestClassifier(random_state=42),\n",
        "    param_distributions=param_dist_rf,\n",
        "    n_iter=20,\n",
        "    cv=5,\n",
        "    scoring=\"accuracy\",\n",
        "    n_jobs=-1,\n",
        "    random_state=42\n",
        ")\n",
        "\n",
        "random_search_rf.fit(X_train, y_train)\n",
        "best_rf_model = random_search_rf.best_estimator_\n",
        "\n",
        "print(\"Best Parameters for Random Forest:\", random_search_rf.best_params_)"
      ]
    },
    {
      "cell_type": "code",
      "execution_count": 19,
      "metadata": {},
      "outputs": [
        {
          "name": "stdout",
          "output_type": "stream",
          "text": [
            "Best Parameters for KNN: {'metric': 'euclidean', 'n_neighbors': 3, 'weights': 'uniform'}\n"
          ]
        }
      ],
      "source": [
        "param_grid_knn = {\n",
        "    \"n_neighbors\": [3, 5, 7, 9],\n",
        "    \"weights\": [\"uniform\", \"distance\"],\n",
        "    \"metric\": [\"euclidean\", \"manhattan\"]\n",
        "}\n",
        "\n",
        "grid_search_knn = GridSearchCV(\n",
        "    KNeighborsClassifier(),\n",
        "    param_grid=param_grid_knn,\n",
        "    cv=5,\n",
        "    scoring=\"accuracy\",\n",
        "    n_jobs=-1\n",
        ")\n",
        "\n",
        "grid_search_knn.fit(X_train, y_train)\n",
        "best_knn_model = grid_search_knn.best_estimator_\n",
        "\n",
        "print(\"Best Parameters for KNN:\", grid_search_knn.best_params_)"
      ]
    },
    {
      "cell_type": "markdown",
      "metadata": {},
      "source": [
        "**Hasil Tuning Hyperparameter**\n",
        "\n",
        "Hasil tuning hyperparameter menunjukkan bahwa:\n",
        "\n",
        "---\n",
        "\n",
        "**1. Random Forest (RandomizedSearchCV)**  \n",
        "- **Parameter terbaik:**  \n",
        "  ```python\n",
        "  max_depth=30, min_samples_leaf=1, min_samples_split=8, n_estimators=156\n",
        "  ```\n",
        "\n",
        "- **Analisis:**  \n",
        "  - Model menggunakan **156 pohon keputusan** (`n_estimators=156`), cukup untuk menangkap kompleksitas data tanpa membebani performa.\n",
        "  - **Kedalaman maksimum 30** (`max_depth=30`) memberi ruang bagi pohon untuk mempelajari pola yang cukup dalam, namun tetap dalam batas untuk menghindari overfitting.\n",
        "  - **min_samples_split=8** artinya cabang pohon hanya akan dilakukan jika sebuah node memiliki setidaknya 8 data, sehingga mengurangi pemisahan yang terlalu dini.\n",
        "  - **min_samples_leaf=1** memberikan fleksibilitas agar sebuah daun bisa terdiri dari satu sampel, yang bisa sangat berguna untuk dataset yang tidak seimbang.\n",
        "\n",
        "---\n",
        "\n",
        "**2. K-Nearest Neighbors (GridSearchCV)**  \n",
        "- **Parameter terbaik:**  \n",
        "  ```python\n",
        "  metric='euclidean', n_neighbors=3, weights='uniform'\n",
        "  ```\n",
        "\n",
        "- **Analisis:**  \n",
        "  - Menggunakan **jarak Euclidean** sebagai pengukur kedekatan antar data, cocok untuk fitur numerik yang terdistribusi secara seragam.\n",
        "  - **n_neighbors=3** menunjukkan bahwa model menggunakan 3 tetangga terdekat untuk menentukan kelas, membuat model lebih sensitif terhadap pola lokal.\n",
        "  - **weights='uniform'** artinya semua tetangga memiliki kontribusi yang sama dalam menentukan prediksi, cocok ketika distribusi data tidak terlalu bervariasi.\n",
        "\n",
        "---\n",
        "\n",
        "### 📌 Kesimpulan:\n",
        "- **RandomizedSearchCV** efektif menemukan parameter terbaik secara efisien dengan sampling acak dari ruang parameter, cocok untuk Random Forest yang memiliki banyak kombinasi parameter.\n",
        "- **GridSearchCV** lebih akurat karena menguji **seluruh kombinasi** parameter yang mungkin, cocok untuk model seperti KNN dengan ruang parameter lebih kecil.\n",
        "- Hasil tuning menunjukkan bahwa kedua model dapat bekerja **lebih optimal** dan **mengurangi risiko overfitting**, jika dibandingkan dengan konfigurasi default."
      ]
    },
    {
      "cell_type": "markdown",
      "metadata": {
        "id": "hE7pqlEPEYzI"
      },
      "source": [
        "## **d. Evaluasi Model Klasifikasi setelah Tuning (Optional)**"
      ]
    },
    {
      "cell_type": "markdown",
      "metadata": {
        "id": "feaPESoeN0zz"
      },
      "source": [
        "Berikut adalah rekomendasi tahapannya.\n",
        "1. Gunakan model dengan hyperparameter terbaik.\n",
        "2. Hitung ulang metrik evaluasi untuk melihat apakah ada peningkatan performa."
      ]
    },
    {
      "cell_type": "code",
      "execution_count": 20,
      "metadata": {
        "id": "HTXZRvEeNMb1"
      },
      "outputs": [
        {
          "name": "stdout",
          "output_type": "stream",
          "text": [
            "Tuned Random Forest - Akurasi: 1.0000, F1-Score: 1.0000\n"
          ]
        },
        {
          "data": {
            "image/png": "[encoded data removed]",
            "text/plain": [
              "<Figure size 600x400 with 2 Axes>"
            ]
          },
          "metadata": {},
          "output_type": "display_data"
        },
        {
          "name": "stdout",
          "output_type": "stream",
          "text": [
            "Tuned KNN - Akurasi: 1.0000, F1-Score: 1.0000\n"
          ]
        },
        {
          "data": {
            "image/png": "[encoded data removed]",
            "text/plain": [
              "<Figure size 600x400 with 2 Axes>"
            ]
          },
          "metadata": {},
          "output_type": "display_data"
        }
      ],
      "source": [
        "y_pred_rf_best = best_rf_model.predict(X_test)\n",
        "y_pred_knn_best = best_knn_model.predict(X_test)\n",
        "\n",
        "accuracy_rf_best = accuracy_score(y_test, y_pred_rf_best)\n",
        "f1_rf_best = f1_score(y_test, y_pred_rf_best, average=\"weighted\")\n",
        "\n",
        "accuracy_knn_best = accuracy_score(y_test, y_pred_knn_best)\n",
        "f1_knn_best = f1_score(y_test, y_pred_knn_best, average=\"weighted\")\n",
        "\n",
        "print(f\"Tuned Random Forest - Akurasi: {accuracy_rf_best:.4f}, F1-Score: {f1_rf_best:.4f}\")\n",
        "\n",
        "plt.figure(figsize=(6, 4))\n",
        "sns.heatmap(confusion_matrix(y_test, y_pred_rf_best), annot=True, fmt=\"d\", cmap=\"Blues\")\n",
        "plt.title(\"Confusion Matrix - Tuned Random Forest\")\n",
        "plt.xlabel(\"Predicted Label\")\n",
        "plt.ylabel(\"True Label\")\n",
        "plt.show()\n",
        "\n",
        "print(f\"Tuned KNN - Akurasi: {accuracy_knn_best:.4f}, F1-Score: {f1_knn_best:.4f}\")\n",
        "\n",
        "plt.figure(figsize=(6, 4))\n",
        "sns.heatmap(confusion_matrix(y_test, y_pred_knn_best), annot=True, fmt=\"d\", cmap=\"Greens\")\n",
        "plt.title(\"Confusion Matrix - Tuned KNN\")\n",
        "plt.xlabel(\"Predicted Label\")\n",
        "plt.ylabel(\"True Label\")\n",
        "plt.show()"
      ]
    },
    {
      "cell_type": "markdown",
      "metadata": {},
      "source": [
        "Dari hasil evaluasi hyperparameter tuning:  \n",
        "\n",
        "1. **Random Forest (RF)**  \n",
        "   - Setelah tuning, RF mencapai **akurasi 100.00%** dan **F1-score 100.00%**.  \n",
        "   - Confusion matrix menunjukkan tidak ada kesalahan klasifikasi (semua prediksi benar).  \n",
        "   - Hasil ini menunjukkan model RF bekerja sangat baik setelah tuning.  \n",
        "\n",
        "2. **K-Nearest Neighbors (KNN)**  \n",
        "   - Setelah tuning, KNN mencapai **akurasi 100.00%** dan **F1-score 100.00%**.  \n",
        "   - Confusion matrix menunjukkan tidak ada kesalahan klasifikasi (semua prediksi benar).  \n",
        "   - Ini menunjukkan tuning KNN berhasil meningkatkan performa model secara optimal.  \n",
        "\n",
        "**Kesimpulan:** Kedua model bekerja dengan sempurna setelah tuning, dengan akurasi dan F1-score yang sama di tingkat maksimum. Kedua metode menunjukkan hasil klasifikasi yang sangat baik tanpa adanya kesalahan prediksi."
      ]
    },
    {
      "cell_type": "markdown",
      "metadata": {
        "id": "ZRsOdm4uEgAW"
      },
      "source": [
        "## **e. Analisis Hasil Evaluasi Model Klasifikasi**"
      ]
    },
    {
      "cell_type": "markdown",
      "metadata": {},
      "source": [
        "Berikut adalah **rekomendasi** tahapannya.\n",
        "1. Bandingkan hasil evaluasi sebelum dan setelah tuning (jika dilakukan).\n",
        "2. Identifikasi kelemahan model, seperti:\n",
        "  - Precision atau Recall rendah untuk kelas tertentu.\n",
        "  - Apakah model mengalami overfitting atau underfitting?\n",
        "3. Berikan rekomendasi tindakan lanjutan, seperti mengumpulkan data tambahan atau mencoba algoritma lain jika hasil belum memuaskan."
      ]
    },
    {
      "cell_type": "markdown",
      "metadata": {},
      "source": [
        "**Analisis Hasil Evaluasi Model Klasifikasi**\n",
        "\n",
        "---\n",
        "\n",
        "**1. Perbandingan Hasil Sebelum dan Setelah Tuning**  \n",
        "- **Sebelum tuning**, performa model Random Forest dan KNN kemungkinan belum optimal karena penggunaan hyperparameter default yang mungkin tidak sesuai untuk dataset.  \n",
        "- **Setelah tuning**, kedua model mencapai performa sempurna:  \n",
        "  - **Random Forest**: Akurasi dan F1-score **100.00%**.  \n",
        "  - **KNN**: Akurasi dan F1-score **100.00%**.  \n",
        "- Peningkatan ini menunjukkan bahwa hyperparameter tuning memberikan dampak signifikan dalam meningkatkan performa model.  \n",
        "\n",
        "---\n",
        "\n",
        "**2. Identifikasi Kelemahan Model**  \n",
        "- **Precision dan Recall**  \n",
        "  - Berdasarkan hasil, baik RF maupun KNN tidak menunjukkan kelemahan dalam klasifikasi. Confusion matrix memperlihatkan tidak adanya kesalahan prediksi (semua instance terklasifikasi dengan benar).  \n",
        "- **Overfitting atau Underfitting**  \n",
        "  - Karena akurasi dan F1-score mencapai 100%, potensi **overfitting** perlu diperhatikan.  \n",
        "  - Jika performa pada data latih sebanding dengan data uji, maka risiko overfitting lebih kecil. Sebaliknya, performa jauh lebih tinggi pada data uji dapat menjadi indikasi **overfitting**.  \n",
        "\n",
        "---\n",
        "\n",
        "**3. Rekomendasi Tindakan Lanjutan**  \n",
        "- **Validasi dengan Data Baru**  \n",
        "  - Gunakan data dari sumber lain atau data dunia nyata untuk menguji generalisasi model.  \n",
        "- **Analisis Bias dan Variance**  \n",
        "  - Lakukan analisis bias-variance untuk memastikan bahwa model tidak terlalu bergantung pada dataset tertentu.  \n",
        "- **Penggunaan Cross-Validation**  \n",
        "  - Lakukan cross-validation untuk mengukur stabilitas performa model dengan membagi dataset menjadi beberapa subset.  \n",
        "- **Eksperimen dengan Algoritma Lain**  \n",
        "  - Untuk eksplorasi lebih lanjut, coba algoritma seperti **Gradient Boosting (XGBoost)** atau **SVM** untuk membandingkan performa.  \n",
        "\n",
        "---\n",
        "\n",
        "**Kesimpulan**  \n",
        "- **Random Forest dan KNN mencapai performa sempurna setelah tuning**, dengan tidak ada perbedaan dalam akurasi dan F1-score pada dataset ini.  \n",
        "- **Efisiensi Komputasi dan Kesesuaian dengan Dataset**: RF cocok untuk dataset besar dengan banyak fitur, sedangkan KNN lebih ideal untuk dataset yang lebih kecil dan bersih.  \n",
        "- **Validasi lanjutan diperlukan** untuk memastikan bahwa performa tetap stabil pada data baru dan tidak hanya cocok untuk dataset ini.  "
      ]
    }
  ],
  "metadata": {
    "colab": {
      "provenance": []
    },
    "kernelspec": {
      "display_name": "env",
      "language": "python",
      "name": "python3"
    },
    "language_info": {
      "codemirror_mode": {
        "name": "ipython",
        "version": 3
      },
      "file_extension": ".py",
      "mimetype": "text/x-python",
      "name": "python",
      "nbconvert_exporter": "python",
      "pygments_lexer": "ipython3",
      "version": "3.13.2"
    }
  },
  "nbformat": 4,
  "nbformat_minor": 0
}
